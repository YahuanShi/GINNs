{
 "cells": [
  {
   "cell_type": "markdown",
   "metadata": {},
   "source": [
    "## Mesh to samples"
   ]
  },
  {
   "cell_type": "code",
   "execution_count": 4,
   "metadata": {},
   "outputs": [
    {
     "name": "stdout",
     "output_type": "stream",
     "text": [
      "/system/user/radler/repos/objgen/toy_tasks\n"
     ]
    }
   ],
   "source": [
    "! pwd"
   ]
  },
  {
   "cell_type": "code",
   "execution_count": 1,
   "metadata": {},
   "outputs": [],
   "source": [
    "import trimesh\n",
    "import k3d\n",
    "import numpy as np"
   ]
  },
  {
   "cell_type": "code",
   "execution_count": 5,
   "metadata": {},
   "outputs": [
    {
     "data": {
      "application/vnd.jupyter.widget-view+json": {
       "model_id": "7f877695603d4569a7d19dd90d781790",
       "version_major": 2,
       "version_minor": 0
      },
      "text/plain": [
       "Output()"
      ]
     },
     "metadata": {},
     "output_type": "display_data"
    }
   ],
   "source": [
    "file_path = \"/system/user/publicdata/simjeb/SimJEB_surfmesh_.obj/10.obj\"\n",
    "mesh_other = trimesh.load(file_path)\n",
    "\n",
    "file_path = \"../GINN/simJEB/orig/411_for_envelope.obj\"\n",
    "mesh_jeb = trimesh.load(file_path)\n",
    "\n",
    "# Plotting using k3d\n",
    "plot = k3d.plot(name='SDF Points')\n",
    "plot += k3d.mesh(mesh_other.vertices, mesh_other.faces, color=0x0000ff)\n",
    "plot += k3d.mesh(mesh_jeb.vertices, mesh_jeb.faces, color=0xff0000)\n",
    "plot.display()"
   ]
  },
  {
   "cell_type": "code",
   "execution_count": 6,
   "metadata": {},
   "outputs": [
    {
     "name": "stdout",
     "output_type": "stream",
     "text": [
      "Mesh bounds min: [-3.92288017e+01 -1.63356995e+02 -1.18000000e-12]\n",
      "Mesh bounds max: [67.32998657 16.81476021 62.50405884]\n",
      "Mesh centroid: [ 16.91079892 -71.23308014  19.42698404]\n",
      "Translation vector: [ 14.05059242 -73.27111721  31.25202942]\n",
      "Scale factor: 90.08587741851807\n",
      "Bounds: [[-3.92288017e+01 -1.63356995e+02 -1.18000000e-12]\n",
      " [ 6.73299866e+01  1.68147602e+01  6.25040588e+01]]\n",
      "Time after sampling points: 0.0 seconds\n",
      "Time after computing SDF: 2.4 seconds\n",
      "Number of points far outside: 1407\n",
      "Number of points outside: 919\n",
      "Number of points inside: 674\n",
      "Time after computing inside/outside points: 2.4 seconds\n",
      "Time after sampling points on envelope: 2.4 seconds\n",
      "Time after computing SDF from envelope to interface: 2.7 seconds\n",
      "Time after removing points on envelope close to interface: 2.7 seconds\n",
      "Time after sampling interface points: 2.7 seconds\n",
      "Time after computing points around interface outside envelope: 3.6 seconds\n",
      "Iteration 0 took 3.6 seconds\n"
     ]
    },
    {
     "name": "stderr",
     "output_type": "stream",
     "text": [
      "/system/apps/userenv/radler/objgen/lib/python3.9/site-packages/traittypes/traittypes.py:97: UserWarning: Given trait value dtype \"float64\" does not match required type \"float32\". A coerced copy has been created.\n",
      "  warnings.warn(\n"
     ]
    },
    {
     "data": {
      "application/vnd.jupyter.widget-view+json": {
       "model_id": "15d9bb506a68445e822424184dc680f1",
       "version_major": 2,
       "version_minor": 0
      },
      "text/plain": [
       "Output()"
      ]
     },
     "metadata": {},
     "output_type": "display_data"
    }
   ],
   "source": [
    "from math import dist\n",
    "import time\n",
    "import trimesh\n",
    "import numpy as np\n",
    "import k3d\n",
    "from matplotlib import cm\n",
    "\n",
    "file_path = \"simJEB/411_for_envelope.obj\"\n",
    "mesh_jeb = trimesh.load(file_path)\n",
    "\n",
    "# load interface mesh\n",
    "file_path = \"simJEB/interfaces.stl\"\n",
    "mesh_if = trimesh.load(file_path)\n",
    "\n",
    "# sample from surface of mesh\n",
    "n_iter = 1\n",
    "n_pts_in_and_out = 3 * 10 ** 3  # ca. 1/3 of the points will be inside the mesh, 1/3 close to the envelope, 1/3 outside\n",
    "n_pts_on_envelope = 10 ** 3\n",
    "n_pts_interface = 10 ** 3\n",
    "outside_env_size = 10\n",
    "eps_remove_pts_on_env = 0.1  # remove points on the envelope close to the interface\n",
    "n_pts_around_interface_outside_env = 10 ** 3\n",
    "dist_range_pts_around_if = [-15, 15]\n",
    "outside_env_size_for_pts_around_if = 15\n",
    "\n",
    "assert n_pts_around_interface_outside_env % n_pts_interface == 0, 'n_pts_around_interface_outside_env must be a multiple of n_pts_interface'\n",
    "\n",
    "#Plotting\n",
    "point_size = 1.0\n",
    "# sample_points, face_idx = mesh.sample(n_pts_in_and_out, return_index=True)\n",
    "bbox_min, bbox_max = mesh_jeb.bounds\n",
    "print('Mesh bounds min:', bbox_min)\n",
    "print('Mesh bounds max:', bbox_max)\n",
    "print('Mesh centroid:', mesh_jeb.centroid)\n",
    "center_for_translation = (bbox_max + bbox_min) / 2\n",
    "print('Translation vector:', center_for_translation)\n",
    "scale_factor = max(bbox_max - bbox_min) / 2\n",
    "print('Scale factor:', scale_factor)\n",
    "bounds = np.stack([bbox_min, bbox_max])\n",
    "print('Bounds:', bounds)\n",
    "\n",
    "pts_far_outside_list = []\n",
    "pts_inside_list = []\n",
    "pts_on_env_list = []\n",
    "pts_outside_list = []\n",
    "if_points_list = []\n",
    "if_normals_list = []\n",
    "pts_around_interface_outside_env_list = []\n",
    "for iter in range(n_iter):\n",
    "    t_start = time.time()\n",
    "    bounds_points = np.random.uniform(low=bbox_min - outside_env_size, high=bbox_max + outside_env_size, size=(n_pts_in_and_out, 3))\n",
    "    print(f'Time after sampling points: {time.time() - t_start:.1f} seconds')\n",
    "    \n",
    "    # Get the signed distance for each point\n",
    "    # According to the docs, the sign of the distance is negative if the point is outside the mesh\n",
    "    # Revert the sign to adjust to our convention\n",
    "    # https://github.com/mikedh/trimesh/blob/main/trimesh/proximity.py\n",
    "    sdf_bounds_pts = (-1) * trimesh.proximity.signed_distance(mesh_jeb, bounds_points)\n",
    "    print(f'Time after computing SDF: {time.time() - t_start:.1f} seconds')\n",
    "\n",
    "    mask_far_outside = sdf_bounds_pts > outside_env_size\n",
    "    pts_far_outside = bounds_points[mask_far_outside]\n",
    "    print('Number of points far outside:', len(pts_far_outside))\n",
    "\n",
    "    mask_within_close_to_env = sdf_bounds_pts < outside_env_size\n",
    "    pts_within_close_to_env = bounds_points[mask_within_close_to_env]\n",
    "    sdf_bounds_pts = sdf_bounds_pts[mask_within_close_to_env]\n",
    "    del bounds_points  # free memory\n",
    "\n",
    "    ## outside points\n",
    "    idcs_outside = np.where(sdf_bounds_pts > 0)[0]\n",
    "    pts_outside = pts_within_close_to_env[idcs_outside]\n",
    "    sdf_outside = sdf_bounds_pts[idcs_outside]\n",
    "    print('Number of points outside:', len(pts_outside))\n",
    "\n",
    "    ## inside points\n",
    "    idcs_inside = np.where(sdf_bounds_pts < 0)[0]\n",
    "    pts_inside = pts_within_close_to_env[idcs_inside]\n",
    "    sdf_inside = sdf_bounds_pts[idcs_inside]\n",
    "    print('Number of points inside:', len(pts_inside))\n",
    "    print(f'Time after computing inside/outside points: {time.time() - t_start:.1f} seconds')\n",
    "\n",
    "    # remove points on the envelope close to the interface\n",
    "    pts_on_env = mesh_jeb.sample(n_pts_on_envelope)\n",
    "    print(f'Time after sampling points on envelope: {time.time() - t_start:.1f} seconds')\n",
    "    sdf_env_to_interface = trimesh.proximity.signed_distance(mesh_if, pts_on_env)\n",
    "    print(f'Time after computing SDF from envelope to interface: {time.time() - t_start:.1f} seconds')\n",
    "    idcs = np.where(np.abs(sdf_env_to_interface) > eps_remove_pts_on_env)[0]\n",
    "    pts_on_env = pts_on_env[idcs]\n",
    "    print(f'Time after removing points on envelope close to interface: {time.time() - t_start:.1f} seconds')\n",
    "\n",
    "    ## Sample points and determine the normals from the corresponding faces\n",
    "    ## From https://github.com/mikedh/trimesh/issues/1285#issuecomment-880854466\n",
    "    if_points, face_idx = mesh_if.sample(n_pts_interface, return_index=True)\n",
    "    if_normals = mesh_if.face_normals[face_idx]\n",
    "    print(f'Time after sampling interface points: {time.time() - t_start:.1f} seconds')\n",
    "    \n",
    "    # points around the interface in the envelope\n",
    "    pts_around_interface_outside_env = np.repeat(if_points, n_pts_around_interface_outside_env // n_pts_interface, axis=0) + np.random.uniform(low=dist_range_pts_around_if[0], high=dist_range_pts_around_if[1], size=(n_pts_around_interface_outside_env, 3))\n",
    "    sdf_around_interface_outside_env = (-1) * trimesh.proximity.signed_distance(mesh_jeb, pts_around_interface_outside_env)\n",
    "    pts_around_interface_outside_env = pts_around_interface_outside_env[np.where((sdf_around_interface_outside_env > 0) & (sdf_around_interface_outside_env < outside_env_size_for_pts_around_if))[0]]\n",
    "    sdf_close_to_interface = (-1) * trimesh.proximity.signed_distance(mesh_if, pts_around_interface_outside_env)\n",
    "    pts_around_interface_outside_env = pts_around_interface_outside_env[np.where(np.abs(sdf_close_to_interface) > eps_remove_pts_on_env)[0]]\n",
    "    print(f'Time after computing points around interface outside envelope: {time.time() - t_start:.1f} seconds')\n",
    "    \n",
    "    pts_far_outside_list.append(pts_far_outside)\n",
    "    pts_inside_list.append(pts_inside)\n",
    "    pts_on_env_list.append(pts_on_env)\n",
    "    pts_outside_list.append(pts_outside)\n",
    "    if_points_list.append(if_points)\n",
    "    if_normals_list.append(if_normals)\n",
    "    pts_around_interface_outside_env_list.append(pts_around_interface_outside_env)\n",
    "    \n",
    "    print(f'Iteration {iter} took {time.time() - t_start:.1f} seconds')\n",
    "\n",
    "pts_far_outside = np.concatenate(pts_far_outside_list)\n",
    "pts_inside = np.concatenate(pts_inside_list)\n",
    "pts_on_env = np.concatenate(pts_on_env_list)\n",
    "pts_outside = np.concatenate(pts_outside_list)\n",
    "if_points = np.concatenate(if_points_list)\n",
    "if_normals = np.concatenate(if_normals_list)\n",
    "pts_around_interface_outside_env = np.concatenate(pts_around_interface_outside_env_list)\n",
    "\n",
    "## Plotting\n",
    "# Normalize the signed distances to [0, 1] for colormap mapping\n",
    "normalized_distances = (sdf_outside - sdf_outside.min()) / (sdf_outside.max() - sdf_outside.min())\n",
    "colors = cm.viridis(normalized_distances)  # Using the viridis colormap\n",
    "colors_hex = [int('0x{:02x}{:02x}{:02x}'.format(int(r*255), int(g*255), int(b*255)), 16) for r, g, b, a in colors]\n",
    "\n",
    "# Plotting using k3d\n",
    "plot = k3d.plot(name='SDF Points')\n",
    "plot += k3d.points(positions=pts_far_outside, point_size=point_size, color=0x000000, name='far outside')\n",
    "plot += k3d.points(positions=pts_outside, point_size=point_size, color=0xff0000, name='outside')\n",
    "plot += k3d.points(positions=pts_inside, point_size=point_size, color=0x00ff00, name='inside')\n",
    "plot += k3d.points(positions=pts_on_env, point_size=point_size, color=0x0000ff, name='on envelope')\n",
    "plot += k3d.points(if_points, point_size=point_size, color=0x888888, name='interface points')\n",
    "plot += k3d.vectors(if_points, if_normals, color=0x888888, name='interface normals')\n",
    "plot += k3d.points(pts_around_interface_outside_env, point_size=point_size, color=0xff00ff, name='around interface outside envelope')\n",
    "\n",
    "plot.display()\n",
    "\n",
    "# ## normalize the points\n",
    "bounds = (bounds - center_for_translation) / scale_factor\n",
    "pts_far_outside = (pts_far_outside - center_for_translation) / scale_factor\n",
    "pts_outside = (pts_outside - center_for_translation) / scale_factor\n",
    "pts_inside = (pts_inside - center_for_translation) / scale_factor\n",
    "pts_on_env = (pts_on_env - center_for_translation) / scale_factor\n",
    "if_points = (if_points - center_for_translation) / scale_factor\n",
    "pts_around_interface_outside_env = (pts_around_interface_outside_env - center_for_translation) / scale_factor\n",
    "\n",
    "## Save points to file\n",
    "## transpose to match the convention of the other code\n",
    "# bounds = bounds.T\n",
    "# print('saving bounds:', bounds)\n",
    "# np.save('simJEB/bounds.npy', bounds)\n",
    "# print('saving pts_far_outside:', pts_far_outside.shape)\n",
    "# np.save('simJEB/pts_far_outside.npy', pts_far_outside)\n",
    "# print('saving pts_outside:', pts_outside.shape)\n",
    "# np.save('simJEB/pts_outside.npy', pts_outside)\n",
    "# print('saving pts_inside:', pts_inside.shape)\n",
    "# np.save('simJEB/pts_inside.npy', pts_inside)\n",
    "# print('saving pts_on_env:', pts_on_env.shape)\n",
    "# np.save('simJEB/pts_on_env.npy', pts_on_env)\n",
    "# np.save('simJEB/center_for_translation.npy', center_for_translation)\n",
    "# np.save('simJEB/scale_factor.npy', scale_factor)\n",
    "\n",
    "\n",
    "# save the points and normals to a file\n",
    "# print('saving if_points:', if_points.shape)\n",
    "# np.save(\"simJEB/interface_points.npy\", if_points)\n",
    "# print('saving if_normals:', if_normals.shape)\n",
    "# np.save(\"simJEB/interface_normals.npy\", if_normals)\n",
    "\n",
    "# print('saving pts_around_interface_outside_env:', pts_around_interface_outside_env.shape)\n",
    "# np.save(\"simJEB/pts_around_interface_outside_env.npy\", pts_around_interface_outside_env)"
   ]
  },
  {
   "cell_type": "code",
   "execution_count": 7,
   "metadata": {},
   "outputs": [
    {
     "name": "stdout",
     "output_type": "stream",
     "text": [
      "bounds: (3, 2)\n",
      "pts_far_outside: (1436601, 3)\n",
      "pts_outside: (898099, 3)\n",
      "pts_inside: (664655, 3)\n",
      "pts_on_env: (956834, 3)\n",
      "center_for_translation: (3,)\n",
      "scale_factor: ()\n",
      "if_points: (1000000, 3)\n",
      "if_normals: (1000000, 3)\n",
      "pts_around_interface_outside_env: (372287, 3)\n"
     ]
    }
   ],
   "source": [
    "# check shapes of saved files\n",
    "\n",
    "print('bounds:', np.load('simJEB/bounds.npy').shape)\n",
    "print('pts_far_outside:', np.load('simJEB/pts_far_outside.npy').shape)\n",
    "print('pts_outside:', np.load('simJEB/pts_outside.npy').shape)\n",
    "print('pts_inside:', np.load('simJEB/pts_inside.npy').shape)\n",
    "print('pts_on_env:', np.load('simJEB/pts_on_env.npy').shape)\n",
    "print('center_for_translation:', np.load('simJEB/center_for_translation.npy').shape)\n",
    "print('scale_factor:', np.load('simJEB/scale_factor.npy').shape)\n",
    "print('if_points:', np.load('simJEB/interface_points.npy').shape)\n",
    "print('if_normals:', np.load('simJEB/interface_normals.npy').shape)\n",
    "print('pts_around_interface_outside_env:', np.load('simJEB/pts_around_interface_outside_env_5mm.npy').shape)"
   ]
  }
 ],
 "metadata": {
  "interpreter": {
   "hash": "6f2d0f544e56e90c4fbae3199980bdd4e4230a39e6d0a729a7d0b2a70605f92f"
  },
  "kernelspec": {
   "display_name": "Python 3.8.5 ('base')",
   "language": "python",
   "name": "python3"
  },
  "language_info": {
   "codemirror_mode": {
    "name": "ipython",
    "version": 3
   },
   "file_extension": ".py",
   "mimetype": "text/x-python",
   "name": "python",
   "nbconvert_exporter": "python",
   "pygments_lexer": "ipython3",
   "version": "3.9.0"
  },
  "orig_nbformat": 4
 },
 "nbformat": 4,
 "nbformat_minor": 2
}
